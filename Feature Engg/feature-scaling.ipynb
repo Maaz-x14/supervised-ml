{
 "cells": [
  {
   "cell_type": "code",
   "execution_count": 1,
   "id": "f29a199d-4b2f-4ad8-861e-b03cf934b422",
   "metadata": {},
   "outputs": [],
   "source": [
    "from sklearn.preprocessing import StandardScaler, MinMaxScaler"
   ]
  },
  {
   "cell_type": "code",
   "execution_count": 3,
   "id": "3a939961-5373-4dc4-9ff6-2d451fa0b993",
   "metadata": {},
   "outputs": [],
   "source": [
    "import numpy as np\n",
    "\n",
    "# Synthetic dataset: 10 samples\n",
    "X = np.array([\n",
    "    [350, 1],\n",
    "    [600, 2],\n",
    "    [850, 2],\n",
    "    [1200, 3],\n",
    "    [1500, 3],\n",
    "    [1800, 4],\n",
    "    [2000, 5],\n",
    "    [950, 2],\n",
    "    [1300, 3],\n",
    "    [1700, 4]\n",
    "])\n"
   ]
  },
  {
   "cell_type": "code",
   "execution_count": 15,
   "id": "d62a2778-3ab3-4ddd-abaa-e8d3de2330c4",
   "metadata": {},
   "outputs": [
    {
     "name": "stdout",
     "output_type": "stream",
     "text": [
      "Z-score Normalization: \n",
      "[[-1.71231565 -1.67285672]\n",
      " [-1.22308261 -0.79240582]\n",
      " [-0.73384957 -0.79240582]\n",
      " [-0.0489233   0.08804509]\n",
      " [ 0.53815635  0.08804509]\n",
      " [ 1.125236    0.968496  ]\n",
      " [ 1.51662243  1.8489469 ]\n",
      " [-0.53815635 -0.79240582]\n",
      " [ 0.14676991  0.08804509]\n",
      " [ 0.92954278  0.968496  ]]\n",
      "Min-max Normalization: \n",
      "[[0.         0.        ]\n",
      " [0.15151515 0.25      ]\n",
      " [0.3030303  0.25      ]\n",
      " [0.51515152 0.5       ]\n",
      " [0.6969697  0.5       ]\n",
      " [0.87878788 0.75      ]\n",
      " [1.         1.        ]\n",
      " [0.36363636 0.25      ]\n",
      " [0.57575758 0.5       ]\n",
      " [0.81818182 0.75      ]]\n",
      "Mean normalization:\n",
      "[[-0.13204102 -0.30662831]\n",
      " [-0.00697849 -0.30612806]\n",
      " [ 0.11808404 -0.30612806]\n",
      " [ 0.29317159 -0.30562781]\n",
      " [ 0.44324662 -0.30562781]\n",
      " [ 0.59332166 -0.30512756]\n",
      " [ 0.69337169 -0.30462731]\n",
      " [ 0.16810905 -0.30612806]\n",
      " [ 0.3431966  -0.30562781]\n",
      " [ 0.54329665 -0.30512756]]\n"
     ]
    }
   ],
   "source": [
    "# Z-score scaling\n",
    "scaler = StandardScaler()\n",
    "X_scaled = scaler.fit_transform(X)\n",
    "print(\"Z-score Normalization: \")\n",
    "print(X_scaled)\n",
    "# Min-max scaling\n",
    "minmax = MinMaxScaler()\n",
    "X_minmax = minmax.fit_transform(X)\n",
    "print(\"Min-max Normalization: \")\n",
    "print(X_minmax)\n",
    "mean_val = X.mean()\n",
    "min_val, max_val = X.min(), X.max()\n",
    "normalized = (X - mean_val) / (max_val - min_val)\n",
    "print(\"Mean normalization:\")\n",
    "print(normalized)"
   ]
  }
 ],
 "metadata": {
  "kernelspec": {
   "display_name": "Python 3 (ipykernel)",
   "language": "python",
   "name": "python3"
  },
  "language_info": {
   "codemirror_mode": {
    "name": "ipython",
    "version": 3
   },
   "file_extension": ".py",
   "mimetype": "text/x-python",
   "name": "python",
   "nbconvert_exporter": "python",
   "pygments_lexer": "ipython3",
   "version": "3.11.7"
  },
  "widgets": {
   "application/vnd.jupyter.widget-state+json": {
    "state": {},
    "version_major": 2,
    "version_minor": 0
   }
  }
 },
 "nbformat": 4,
 "nbformat_minor": 5
}
