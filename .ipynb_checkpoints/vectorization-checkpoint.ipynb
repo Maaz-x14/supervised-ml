{
 "cells": [
  {
   "cell_type": "code",
   "execution_count": 23,
   "id": "13d86a4b-ed2c-4217-9d9f-5294c1ea49d7",
   "metadata": {},
   "outputs": [
    {
     "name": "stdout",
     "output_type": "stream",
     "text": [
      "For loop: 0.1607530117034912 seconds\n",
      "Vectorized: 0.0009739398956298828 seconds\n"
     ]
    }
   ],
   "source": [
    "import numpy as np\n",
    "import time\n",
    "\n",
    "n = 100000\n",
    "w = np.random.rand(n)\n",
    "x = np.random.rand(n)\n",
    "b = 2\n",
    "\n",
    "# Non-vectorized (for loop)\n",
    "start = time.time()\n",
    "f_loop = 0\n",
    "for j in range(n):\n",
    "    f_loop += w[j] * x[j]\n",
    "f_loop += b\n",
    "end = time.time()\n",
    "print(\"For loop:\", end - start, \"seconds\")\n",
    "\n",
    "# Vectorized (np.dot)\n",
    "start = time.time()\n",
    "f_vec = np.dot(w, x) + b\n",
    "end = time.time()\n",
    "print(\"Vectorized:\", end - start, \"seconds\")\n"
   ]
  }
 ],
 "metadata": {
  "kernelspec": {
   "display_name": "Python 3 (ipykernel)",
   "language": "python",
   "name": "python3"
  },
  "language_info": {
   "codemirror_mode": {
    "name": "ipython",
    "version": 3
   },
   "file_extension": ".py",
   "mimetype": "text/x-python",
   "name": "python",
   "nbconvert_exporter": "python",
   "pygments_lexer": "ipython3",
   "version": "3.11.7"
  },
  "widgets": {
   "application/vnd.jupyter.widget-state+json": {
    "state": {},
    "version_major": 2,
    "version_minor": 0
   }
  }
 },
 "nbformat": 4,
 "nbformat_minor": 5
}
